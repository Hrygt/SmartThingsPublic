{
  "nbformat": 4,
  "nbformat_minor": 0,
  "metadata": {
    "colab": {
      "provenance": [],
      "machine_shape": "hm",
      "gpuType": "V28",
      "authorship_tag": "ABX9TyNCSDdeo9AaM8aXGNfMCVFE",
      "include_colab_link": true
    },
    "kernelspec": {
      "name": "python3",
      "display_name": "Python 3"
    },
    "language_info": {
      "name": "python"
    },
    "accelerator": "TPU"
  },
  "cells": [
    {
      "cell_type": "markdown",
      "metadata": {
        "id": "view-in-github",
        "colab_type": "text"
      },
      "source": [
        "<a href=\"https://colab.research.google.com/github/Hrygt/SmartThingsPublic/blob/master/Digit_Recognizer_Module_7.ipynb\" target=\"_parent\"><img src=\"https://colab.research.google.com/assets/colab-badge.svg\" alt=\"Open In Colab\"/></a>"
      ]
    },
    {
      "cell_type": "markdown",
      "source": [],
      "metadata": {
        "id": "KZveYtipeEx0"
      }
    },
    {
      "cell_type": "code",
      "source": [
        "import tensorflow\n",
        "from tensorflow import keras\n",
        "from tensorflow.keras import layers\n",
        "from tensorflow.keras import Sequential\n",
        "from tensorflow.keras.layers import Dense, Flatten\n"
      ],
      "metadata": {
        "id": "OAE6iv0meIP0"
      },
      "execution_count": null,
      "outputs": []
    },
    {
      "cell_type": "code",
      "source": [
        "(X_train, y_train),(X_test, y_test) = keras.datasets.mnist.load_data()"
      ],
      "metadata": {
        "colab": {
          "base_uri": "https://localhost:8080/"
        },
        "id": "j5oHSyVeeIS8",
        "outputId": "0d2610e2-1cda-4739-f517-54454ae8b1ba"
      },
      "execution_count": null,
      "outputs": [
        {
          "output_type": "stream",
          "name": "stdout",
          "text": [
            "Downloading data from https://storage.googleapis.com/tensorflow/tf-keras-datasets/mnist.npz\n",
            "11490434/11490434 [==============================] - 0s 0us/step\n"
          ]
        }
      ]
    },
    {
      "cell_type": "code",
      "source": [
        "X_train.shape"
      ],
      "metadata": {
        "colab": {
          "base_uri": "https://localhost:8080/"
        },
        "id": "AyHIRV8zeIWE",
        "outputId": "82253329-7208-4919-f7fd-ff6a1aa49f8d"
      },
      "execution_count": null,
      "outputs": [
        {
          "output_type": "execute_result",
          "data": {
            "text/plain": [
              "(60000, 28, 28)"
            ]
          },
          "metadata": {},
          "execution_count": 5
        }
      ]
    },
    {
      "cell_type": "code",
      "source": [
        "X_test.shape"
      ],
      "metadata": {
        "colab": {
          "base_uri": "https://localhost:8080/"
        },
        "id": "h_rLe7j5eIZM",
        "outputId": "9b6d6d5c-6c61-46f6-b2cb-03923449e130"
      },
      "execution_count": null,
      "outputs": [
        {
          "output_type": "execute_result",
          "data": {
            "text/plain": [
              "(10000, 28, 28)"
            ]
          },
          "metadata": {},
          "execution_count": 8
        }
      ]
    },
    {
      "cell_type": "code",
      "source": [
        "import matplotlib.pyplot as plt\n",
        "plt.imshow(X_train[1])"
      ],
      "metadata": {
        "colab": {
          "base_uri": "https://localhost:8080/",
          "height": 447
        },
        "id": "QpmUdKv6eIcd",
        "outputId": "6f4c3a7f-0b63-4e81-f5fa-74e4ab3ec20a"
      },
      "execution_count": null,
      "outputs": [
        {
          "output_type": "execute_result",
          "data": {
            "text/plain": [
              "<matplotlib.image.AxesImage at 0x78b0a57cef80>"
            ]
          },
          "metadata": {},
          "execution_count": 10
        },
        {
          "output_type": "display_data",
          "data": {
            "text/plain": [
              "<Figure size 640x480 with 1 Axes>"
            ],
            "image/png": "[encoded data removed]"
          },
          "metadata": {}
        }
      ]
    },
    {
      "cell_type": "code",
      "source": [
        "X_train = X_train/255\n",
        "X_test = X_test/255"
      ],
      "metadata": {
        "id": "pdv9XLTreIfU"
      },
      "execution_count": null,
      "outputs": []
    },
    {
      "cell_type": "code",
      "execution_count": null,
      "metadata": {
        "id": "YSyqouGQd94x"
      },
      "outputs": [],
      "source": [
        "model = Sequential()\n",
        "model.add(Flatten(input_shape=(28,28)))\n",
        "model.add(Dense(128, activation='relu'))\n",
        "model.add(Dense(32, activation='relu'))\n",
        "model.add(Dense(10, activation='softmax'))\n"
      ]
    },
    {
      "cell_type": "code",
      "source": [
        "model.summary()"
      ],
      "metadata": {
        "colab": {
          "base_uri": "https://localhost:8080/"
        },
        "id": "GlR1tP8jgniV",
        "outputId": "8fb2b643-edec-4e26-94cf-11d2dc9e3386"
      },
      "execution_count": null,
      "outputs": [
        {
          "output_type": "stream",
          "name": "stdout",
          "text": [
            "Model: \"sequential_1\"\n",
            "_________________________________________________________________\n",
            " Layer (type)                Output Shape              Param #   \n",
            "=================================================================\n",
            " flatten_1 (Flatten)         (None, 784)               0         \n",
            "                                                                 \n",
            " dense_2 (Dense)             (None, 128)               100480    \n",
            "                                                                 \n",
            " dense_3 (Dense)             (None, 32)                4128      \n",
            "                                                                 \n",
            " dense_4 (Dense)             (None, 10)                330       \n",
            "                                                                 \n",
            "=================================================================\n",
            "Total params: 104938 (409.91 KB)\n",
            "Trainable params: 104938 (409.91 KB)\n",
            "Non-trainable params: 0 (0.00 Byte)\n",
            "_________________________________________________________________\n"
          ]
        }
      ]
    },
    {
      "cell_type": "code",
      "source": [
        "model.compile(loss='sparse_categorical_crossentropy', optimizer='adam', metrics=['accuracy'])"
      ],
      "metadata": {
        "id": "IwcpDh2Egnll"
      },
      "execution_count": null,
      "outputs": []
    },
    {
      "cell_type": "code",
      "source": [
        "history = model.fit(X_train, y_train, epochs=30, validation_split=0.2)"
      ],
      "metadata": {
        "colab": {
          "base_uri": "https://localhost:8080/"
        },
        "id": "2paPPZe8gnom",
        "outputId": "a25e0413-af25-4902-a907-c995c241d5f2"
      },
      "execution_count": null,
      "outputs": [
        {
          "output_type": "stream",
          "name": "stdout",
          "text": [
            "Epoch 1/30\n",
            "1500/1500 [==============================] - 5s 3ms/step - loss: 0.2805 - accuracy: 0.9193 - val_loss: 0.1448 - val_accuracy: 0.9592\n",
            "Epoch 2/30\n",
            "1500/1500 [==============================] - 5s 3ms/step - loss: 0.1181 - accuracy: 0.9639 - val_loss: 0.1317 - val_accuracy: 0.9597\n",
            "Epoch 3/30\n",
            "1500/1500 [==============================] - 4s 3ms/step - loss: 0.0822 - accuracy: 0.9753 - val_loss: 0.0991 - val_accuracy: 0.9725\n",
            "Epoch 4/30\n",
            "1500/1500 [==============================] - 4s 3ms/step - loss: 0.0608 - accuracy: 0.9813 - val_loss: 0.1123 - val_accuracy: 0.9692\n",
            "Epoch 5/30\n",
            "1500/1500 [==============================] - 4s 3ms/step - loss: 0.0485 - accuracy: 0.9850 - val_loss: 0.0967 - val_accuracy: 0.9728\n",
            "Epoch 6/30\n",
            "1500/1500 [==============================] - 4s 3ms/step - loss: 0.0386 - accuracy: 0.9874 - val_loss: 0.1106 - val_accuracy: 0.9694\n",
            "Epoch 7/30\n",
            "1500/1500 [==============================] - 4s 3ms/step - loss: 0.0306 - accuracy: 0.9899 - val_loss: 0.1074 - val_accuracy: 0.9723\n",
            "Epoch 8/30\n",
            "1500/1500 [==============================] - 4s 3ms/step - loss: 0.0240 - accuracy: 0.9917 - val_loss: 0.1091 - val_accuracy: 0.9738\n",
            "Epoch 9/30\n",
            "1500/1500 [==============================] - 4s 3ms/step - loss: 0.0231 - accuracy: 0.9927 - val_loss: 0.1138 - val_accuracy: 0.9737\n",
            "Epoch 10/30\n",
            "1500/1500 [==============================] - 4s 3ms/step - loss: 0.0201 - accuracy: 0.9933 - val_loss: 0.1139 - val_accuracy: 0.9735\n",
            "Epoch 11/30\n",
            "1500/1500 [==============================] - 5s 3ms/step - loss: 0.0144 - accuracy: 0.9955 - val_loss: 0.1465 - val_accuracy: 0.9709\n",
            "Epoch 12/30\n",
            "1500/1500 [==============================] - 5s 3ms/step - loss: 0.0174 - accuracy: 0.9943 - val_loss: 0.1393 - val_accuracy: 0.9737\n",
            "Epoch 13/30\n",
            "1500/1500 [==============================] - 5s 3ms/step - loss: 0.0142 - accuracy: 0.9953 - val_loss: 0.1269 - val_accuracy: 0.9743\n",
            "Epoch 14/30\n",
            "1500/1500 [==============================] - 5s 3ms/step - loss: 0.0122 - accuracy: 0.9957 - val_loss: 0.1251 - val_accuracy: 0.9755\n",
            "Epoch 15/30\n",
            "1500/1500 [==============================] - 5s 3ms/step - loss: 0.0106 - accuracy: 0.9964 - val_loss: 0.1317 - val_accuracy: 0.9748\n",
            "Epoch 16/30\n",
            "1500/1500 [==============================] - 5s 3ms/step - loss: 0.0119 - accuracy: 0.9958 - val_loss: 0.1271 - val_accuracy: 0.9763\n",
            "Epoch 17/30\n",
            "1500/1500 [==============================] - 5s 3ms/step - loss: 0.0116 - accuracy: 0.9964 - val_loss: 0.1338 - val_accuracy: 0.9751\n",
            "Epoch 18/30\n",
            "1500/1500 [==============================] - 4s 3ms/step - loss: 0.0114 - accuracy: 0.9958 - val_loss: 0.1485 - val_accuracy: 0.9734\n",
            "Epoch 19/30\n",
            "1500/1500 [==============================] - 4s 3ms/step - loss: 0.0109 - accuracy: 0.9965 - val_loss: 0.1517 - val_accuracy: 0.9758\n",
            "Epoch 20/30\n",
            "1500/1500 [==============================] - 4s 3ms/step - loss: 0.0125 - accuracy: 0.9961 - val_loss: 0.1412 - val_accuracy: 0.9749\n",
            "Epoch 21/30\n",
            "1500/1500 [==============================] - 4s 3ms/step - loss: 0.0059 - accuracy: 0.9981 - val_loss: 0.1513 - val_accuracy: 0.9739\n",
            "Epoch 22/30\n",
            "1500/1500 [==============================] - 4s 3ms/step - loss: 0.0073 - accuracy: 0.9973 - val_loss: 0.1475 - val_accuracy: 0.9771\n",
            "Epoch 23/30\n",
            "1500/1500 [==============================] - 4s 3ms/step - loss: 0.0093 - accuracy: 0.9969 - val_loss: 0.1575 - val_accuracy: 0.9765\n",
            "Epoch 24/30\n",
            "1500/1500 [==============================] - 4s 3ms/step - loss: 0.0096 - accuracy: 0.9970 - val_loss: 0.1721 - val_accuracy: 0.9760\n",
            "Epoch 25/30\n",
            "1500/1500 [==============================] - 4s 3ms/step - loss: 0.0059 - accuracy: 0.9981 - val_loss: 0.1608 - val_accuracy: 0.9766\n",
            "Epoch 26/30\n",
            "1500/1500 [==============================] - 4s 3ms/step - loss: 0.0089 - accuracy: 0.9970 - val_loss: 0.1537 - val_accuracy: 0.9760\n",
            "Epoch 27/30\n",
            "1500/1500 [==============================] - 4s 3ms/step - loss: 0.0074 - accuracy: 0.9978 - val_loss: 0.1810 - val_accuracy: 0.9738\n",
            "Epoch 28/30\n",
            "1500/1500 [==============================] - 5s 3ms/step - loss: 0.0088 - accuracy: 0.9974 - val_loss: 0.1832 - val_accuracy: 0.9743\n",
            "Epoch 29/30\n",
            "1500/1500 [==============================] - 4s 3ms/step - loss: 0.0072 - accuracy: 0.9979 - val_loss: 0.1931 - val_accuracy: 0.9761\n",
            "Epoch 30/30\n",
            "1500/1500 [==============================] - 5s 3ms/step - loss: 0.0069 - accuracy: 0.9980 - val_loss: 0.1733 - val_accuracy: 0.9768\n"
          ]
        }
      ]
    },
    {
      "cell_type": "code",
      "source": [
        "y_prob = model.predict(X_test)"
      ],
      "metadata": {
        "colab": {
          "base_uri": "https://localhost:8080/"
        },
        "id": "b0KJqubQgnrl",
        "outputId": "03f4a633-5101-4ed6-951e-03b3d1c7f06e"
      },
      "execution_count": null,
      "outputs": [
        {
          "output_type": "stream",
          "name": "stdout",
          "text": [
            "313/313 [==============================] - 1s 1ms/step\n"
          ]
        }
      ]
    },
    {
      "cell_type": "code",
      "source": [
        "y_prob"
      ],
      "metadata": {
        "colab": {
          "base_uri": "https://localhost:8080/"
        },
        "id": "TxVVUj_Dgnvm",
        "outputId": "4f205942-cfc7-471d-e6ef-25f016adb300"
      },
      "execution_count": null,
      "outputs": [
        {
          "output_type": "execute_result",
          "data": {
            "text/plain": [
              "array([[3.23928904e-15, 1.87334825e-15, 1.52232505e-14, ...,\n",
              "        9.99999940e-01, 1.25999658e-16, 5.55380221e-12],\n",
              "       [3.23437895e-20, 1.44351219e-14, 9.99999940e-01, ...,\n",
              "        1.00471760e-24, 1.52570180e-23, 0.00000000e+00],\n",
              "       [3.31102347e-16, 9.99999940e-01, 4.30211118e-12, ...,\n",
              "        5.77936643e-10, 4.74299533e-08, 2.22432414e-16],\n",
              "       ...,\n",
              "       [2.22854488e-24, 2.09488438e-22, 1.02185966e-25, ...,\n",
              "        4.54757398e-17, 1.15587625e-16, 2.10487484e-13],\n",
              "       [1.51711781e-31, 5.11398178e-20, 1.61881264e-38, ...,\n",
              "        1.23995820e-20, 1.26084412e-14, 6.22787319e-26],\n",
              "       [9.05241233e-19, 7.88887239e-21, 1.61528831e-18, ...,\n",
              "        1.08147854e-26, 7.94692965e-20, 1.01853875e-20]], dtype=float32)"
            ]
          },
          "metadata": {},
          "execution_count": 30
        }
      ]
    },
    {
      "cell_type": "code",
      "source": [
        "y_pred = y_prob.argmax(axis=1)"
      ],
      "metadata": {
        "id": "TcJVqzDCnTv3"
      },
      "execution_count": null,
      "outputs": []
    },
    {
      "cell_type": "code",
      "source": [
        "from sklearn.metrics import accuracy_score\n",
        "accuracy_score(y_test, y_pred)"
      ],
      "metadata": {
        "colab": {
          "base_uri": "https://localhost:8080/"
        },
        "id": "831jIQ4wnfBH",
        "outputId": "72ffce0b-8740-4be4-b439-3027b3db1915"
      },
      "execution_count": null,
      "outputs": [
        {
          "output_type": "execute_result",
          "data": {
            "text/plain": [
              "0.9787"
            ]
          },
          "metadata": {},
          "execution_count": 32
        }
      ]
    },
    {
      "cell_type": "code",
      "source": [
        "plt.plot(history.history['loss'])\n",
        "plt.plot(history.history['val_loss'])"
      ],
      "metadata": {
        "colab": {
          "base_uri": "https://localhost:8080/",
          "height": 447
        },
        "id": "glk2Tg1AnyDC",
        "outputId": "79b96e4c-9abb-4f70-e3dc-2db17515144b"
      },
      "execution_count": null,
      "outputs": [
        {
          "output_type": "execute_result",
          "data": {
            "text/plain": [
              "[<matplotlib.lines.Line2D at 0x78a7a8462020>]"
            ]
          },
          "metadata": {},
          "execution_count": 33
        },
        {
          "output_type": "display_data",
          "data": {
            "text/plain": [
              "<Figure size 640x480 with 1 Axes>"
            ],
            "image/png": "[encoded data removed]"
          },
          "metadata": {}
        }
      ]
    },
    {
      "cell_type": "code",
      "source": [
        "plt.plot(history.history['accuracy'])\n",
        "plt.plot(history.history['val_accuracy'])"
      ],
      "metadata": {
        "colab": {
          "base_uri": "https://localhost:8080/",
          "height": 447
        },
        "id": "r-vTgsEWpl5C",
        "outputId": "7c613025-3347-4d84-d6c0-f797f33fc8ef"
      },
      "execution_count": null,
      "outputs": [
        {
          "output_type": "execute_result",
          "data": {
            "text/plain": [
              "[<matplotlib.lines.Line2D at 0x78a7a840bbb0>]"
            ]
          },
          "metadata": {},
          "execution_count": 34
        },
        {
          "output_type": "display_data",
          "data": {
            "text/plain": [
              "<Figure size 640x480 with 1 Axes>"
            ],
            "image/png": "[encoded data removed]"
          },
          "metadata": {}
        }
      ]
    },
    {
      "cell_type": "code",
      "source": [
        "plt.imshow(X_test[1])"
      ],
      "metadata": {
        "colab": {
          "base_uri": "https://localhost:8080/",
          "height": 447
        },
        "id": "VoodcDNDqPfD",
        "outputId": "9133948c-7f92-4691-d156-0dc65505de91"
      },
      "execution_count": null,
      "outputs": [
        {
          "output_type": "execute_result",
          "data": {
            "text/plain": [
              "<matplotlib.image.AxesImage at 0x78a7a83ea6e0>"
            ]
          },
          "metadata": {},
          "execution_count": 39
        },
        {
          "output_type": "display_data",
          "data": {
            "text/plain": [
              "<Figure size 640x480 with 1 Axes>"
            ],
            "image/png": "[encoded data removed]"
          },
          "metadata": {}
        }
      ]
    },
    {
      "cell_type": "code",
      "source": [
        "model.predict(X_test[1].reshape(1,28,28)).argmax(axis=1)"
      ],
      "metadata": {
        "colab": {
          "base_uri": "https://localhost:8080/"
        },
        "id": "tW4fXvQTqtTO",
        "outputId": "68f32ae6-e7a8-4007-804f-53dd623845db"
      },
      "execution_count": null,
      "outputs": [
        {
          "output_type": "stream",
          "name": "stdout",
          "text": [
            "1/1 [==============================] - 0s 23ms/step\n"
          ]
        },
        {
          "output_type": "execute_result",
          "data": {
            "text/plain": [
              "array([2])"
            ]
          },
          "metadata": {},
          "execution_count": 40
        }
      ]
    },
    {
      "cell_type": "code",
      "source": [],
      "metadata": {
        "id": "gOfmJUZMrCC_"
      },
      "execution_count": null,
      "outputs": []
    }
  ]
}