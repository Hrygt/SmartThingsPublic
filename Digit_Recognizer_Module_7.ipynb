{
  "nbformat": 4,
  "nbformat_minor": 0,
  "metadata": {
    "colab": {
      "provenance": [],
      "machine_shape": "hm",
      "gpuType": "V28",
      "authorship_tag": "ABX9TyOMf2g6oDzgaXCUEeVnBDCb",
      "include_colab_link": true
    },
    "kernelspec": {
      "name": "python3",
      "display_name": "Python 3"
    },
    "language_info": {
      "name": "python"
    },
    "accelerator": "TPU"
  },
  "cells": [
    {
      "cell_type": "markdown",
      "metadata": {
        "id": "view-in-github",
        "colab_type": "text"
      },
      "source": [
        "<a href=\"https://colab.research.google.com/github/Hrygt/SmartThingsPublic/blob/master/Digit_Recognizer_Module_7.ipynb\" target=\"_parent\"><img src=\"https://colab.research.google.com/assets/colab-badge.svg\" alt=\"Open In Colab\"/></a>"
      ]
    },
    {
      "cell_type": "markdown",
      "source": [],
      "metadata": {
        "id": "KZveYtipeEx0"
      }
    },
    {
      "cell_type": "code",
      "source": [
        "import tensorflow\n",
        "import pandas as pd\n",
        "\n",
        "from tensorflow import keras\n",
        "from tensorflow.keras import layers, Sequential\n",
        "from tensorflow.keras.layers import Dense, Flatten"
      ],
      "metadata": {
        "id": "OAE6iv0meIP0"
      },
      "execution_count": 69,
      "outputs": []
    },
    {
      "cell_type": "code",
      "source": [
        "# Load the training data\n",
        "train_data = pd.read_csv('train.csv')\n",
        "X_train = train_data.drop('label', axis=1).values\n",
        "y_train = train_data['label'].values"
      ],
      "metadata": {
        "id": "j5oHSyVeeIS8"
      },
      "execution_count": 70,
      "outputs": []
    },
    {
      "cell_type": "code",
      "source": [
        "X_train.shape"
      ],
      "metadata": {
        "colab": {
          "base_uri": "https://localhost:8080/"
        },
        "id": "AyHIRV8zeIWE",
        "outputId": "4cd76247-d736-4691-b97f-8722381c09a9"
      },
      "execution_count": 71,
      "outputs": [
        {
          "output_type": "execute_result",
          "data": {
            "text/plain": [
              "(42000, 784)"
            ]
          },
          "metadata": {},
          "execution_count": 71
        }
      ]
    },
    {
      "cell_type": "code",
      "source": [
        "y_train.shape"
      ],
      "metadata": {
        "id": "IhFOyIYpr-Cg",
        "outputId": "459156e3-406e-4705-df00-a8dde4c42030",
        "colab": {
          "base_uri": "https://localhost:8080/"
        }
      },
      "execution_count": 72,
      "outputs": [
        {
          "output_type": "execute_result",
          "data": {
            "text/plain": [
              "(42000,)"
            ]
          },
          "metadata": {},
          "execution_count": 72
        }
      ]
    },
    {
      "cell_type": "code",
      "source": [],
      "metadata": {
        "id": "mIUOnNYhtXk6"
      },
      "execution_count": 72,
      "outputs": []
    },
    {
      "cell_type": "code",
      "source": [
        "# Normalize the Training Data\n",
        "X_train = X_train / 255.0\n",
        "X_train = X_train.reshape(-1, 28, 28, 1)\n",
        "# y_train = keras.utils.to_categorical(y_train, num_classes=10)"
      ],
      "metadata": {
        "id": "W7pqBsD0rLAf"
      },
      "execution_count": 73,
      "outputs": []
    },
    {
      "cell_type": "code",
      "source": [
        "y_train.shape"
      ],
      "metadata": {
        "id": "EQA5RddAspbp",
        "outputId": "afd76f36-5040-4d8f-b62a-b13026b408f9",
        "colab": {
          "base_uri": "https://localhost:8080/"
        }
      },
      "execution_count": 74,
      "outputs": [
        {
          "output_type": "execute_result",
          "data": {
            "text/plain": [
              "(42000,)"
            ]
          },
          "metadata": {},
          "execution_count": 74
        }
      ]
    },
    {
      "cell_type": "code",
      "source": [
        "import matplotlib.pyplot as plt\n",
        "plt.imshow(X_train[1])"
      ],
      "metadata": {
        "colab": {
          "base_uri": "https://localhost:8080/",
          "height": 447
        },
        "id": "QpmUdKv6eIcd",
        "outputId": "fb04ff16-d8dc-4f14-be48-333434ee06d7"
      },
      "execution_count": 75,
      "outputs": [
        {
          "output_type": "execute_result",
          "data": {
            "text/plain": [
              "<matplotlib.image.AxesImage at 0x78ed803ae350>"
            ]
          },
          "metadata": {},
          "execution_count": 75
        },
        {
          "output_type": "display_data",
          "data": {
            "text/plain": [
              "<Figure size 640x480 with 1 Axes>"
            ],
            "image/png": "[encoded data removed]"
          },
          "metadata": {}
        }
      ]
    },
    {
      "cell_type": "code",
      "source": [
        "# Load the Test Data\n",
        "X_test = pd.read_csv('test.csv').values\n",
        "X_test = X_test / 255.0\n",
        "X_test = X_test.reshape(-1, 28, 28, 1)"
      ],
      "metadata": {
        "id": "pdv9XLTreIfU"
      },
      "execution_count": 76,
      "outputs": []
    },
    {
      "cell_type": "code",
      "execution_count": 77,
      "metadata": {
        "id": "YSyqouGQd94x"
      },
      "outputs": [],
      "source": [
        "# Build the model\n",
        "model = Sequential([\n",
        "    Flatten(input_shape=(28, 28)),\n",
        "    Dense(256, activation='relu'),\n",
        "    Dense(64, activation='relu'),\n",
        "    Dense(32, activation='relu'),\n",
        "    Dense(10, activation='softmax')\n",
        "])"
      ]
    },
    {
      "cell_type": "code",
      "source": [
        "model.summary()"
      ],
      "metadata": {
        "colab": {
          "base_uri": "https://localhost:8080/"
        },
        "id": "GlR1tP8jgniV",
        "outputId": "20908353-42e5-4d1e-e4fc-b154b1e21282"
      },
      "execution_count": 78,
      "outputs": [
        {
          "output_type": "stream",
          "name": "stdout",
          "text": [
            "Model: \"sequential_3\"\n",
            "_________________________________________________________________\n",
            " Layer (type)                Output Shape              Param #   \n",
            "=================================================================\n",
            " flatten_3 (Flatten)         (None, 784)               0         \n",
            "                                                                 \n",
            " dense_12 (Dense)            (None, 256)               200960    \n",
            "                                                                 \n",
            " dense_13 (Dense)            (None, 64)                16448     \n",
            "                                                                 \n",
            " dense_14 (Dense)            (None, 32)                2080      \n",
            "                                                                 \n",
            " dense_15 (Dense)            (None, 10)                330       \n",
            "                                                                 \n",
            "=================================================================\n",
            "Total params: 219818 (858.66 KB)\n",
            "Trainable params: 219818 (858.66 KB)\n",
            "Non-trainable params: 0 (0.00 Byte)\n",
            "_________________________________________________________________\n"
          ]
        }
      ]
    },
    {
      "cell_type": "code",
      "source": [
        "# Compile the model\n",
        "model.compile(loss='sparse_categorical_crossentropy', optimizer='Adam', metrics=['accuracy'])"
      ],
      "metadata": {
        "id": "IwcpDh2Egnll"
      },
      "execution_count": 79,
      "outputs": []
    },
    {
      "cell_type": "code",
      "source": [
        "# Fit the model\n",
        "history = model.fit(X_train, y_train, epochs=15, validation_split=0.2)\n"
      ],
      "metadata": {
        "colab": {
          "base_uri": "https://localhost:8080/"
        },
        "id": "2paPPZe8gnom",
        "outputId": "3ad38df9-cb02-4b81-9a67-b25277e2755c"
      },
      "execution_count": 80,
      "outputs": [
        {
          "output_type": "stream",
          "name": "stdout",
          "text": [
            "Epoch 1/15\n",
            "1050/1050 [==============================] - 5s 4ms/step - loss: 0.2940 - accuracy: 0.9100 - val_loss: 0.1467 - val_accuracy: 0.9554\n",
            "Epoch 2/15\n",
            "1050/1050 [==============================] - 4s 4ms/step - loss: 0.1146 - accuracy: 0.9649 - val_loss: 0.1148 - val_accuracy: 0.9655\n",
            "Epoch 3/15\n",
            "1050/1050 [==============================] - 4s 4ms/step - loss: 0.0748 - accuracy: 0.9763 - val_loss: 0.1019 - val_accuracy: 0.9680\n",
            "Epoch 4/15\n",
            "1050/1050 [==============================] - 4s 4ms/step - loss: 0.0568 - accuracy: 0.9818 - val_loss: 0.1225 - val_accuracy: 0.9632\n",
            "Epoch 5/15\n",
            "1050/1050 [==============================] - 4s 4ms/step - loss: 0.0431 - accuracy: 0.9862 - val_loss: 0.1168 - val_accuracy: 0.9675\n",
            "Epoch 6/15\n",
            "1050/1050 [==============================] - 4s 4ms/step - loss: 0.0339 - accuracy: 0.9891 - val_loss: 0.0950 - val_accuracy: 0.9755\n",
            "Epoch 7/15\n",
            "1050/1050 [==============================] - 4s 4ms/step - loss: 0.0303 - accuracy: 0.9900 - val_loss: 0.1131 - val_accuracy: 0.9702\n",
            "Epoch 8/15\n",
            "1050/1050 [==============================] - 4s 4ms/step - loss: 0.0239 - accuracy: 0.9918 - val_loss: 0.1014 - val_accuracy: 0.9733\n",
            "Epoch 9/15\n",
            "1050/1050 [==============================] - 4s 3ms/step - loss: 0.0219 - accuracy: 0.9924 - val_loss: 0.1230 - val_accuracy: 0.9718\n",
            "Epoch 10/15\n",
            "1050/1050 [==============================] - 4s 3ms/step - loss: 0.0201 - accuracy: 0.9934 - val_loss: 0.1114 - val_accuracy: 0.9717\n",
            "Epoch 11/15\n",
            "1050/1050 [==============================] - 4s 3ms/step - loss: 0.0175 - accuracy: 0.9940 - val_loss: 0.1481 - val_accuracy: 0.9688\n",
            "Epoch 12/15\n",
            "1050/1050 [==============================] - 4s 3ms/step - loss: 0.0140 - accuracy: 0.9950 - val_loss: 0.1445 - val_accuracy: 0.9685\n",
            "Epoch 13/15\n",
            "1050/1050 [==============================] - 4s 3ms/step - loss: 0.0130 - accuracy: 0.9956 - val_loss: 0.1511 - val_accuracy: 0.9712\n",
            "Epoch 14/15\n",
            "1050/1050 [==============================] - 4s 3ms/step - loss: 0.0177 - accuracy: 0.9940 - val_loss: 0.1219 - val_accuracy: 0.9756\n",
            "Epoch 15/15\n",
            "1050/1050 [==============================] - 4s 4ms/step - loss: 0.0137 - accuracy: 0.9957 - val_loss: 0.2037 - val_accuracy: 0.9636\n"
          ]
        }
      ]
    },
    {
      "cell_type": "code",
      "source": [
        "# Predict on test set\n",
        "y_prob = model.predict(X_test)\n",
        "y_pred = y_prob.argmax(axis=1)"
      ],
      "metadata": {
        "id": "TcJVqzDCnTv3",
        "outputId": "66e9f1d3-5202-45c1-c564-3ebf5d40168f",
        "colab": {
          "base_uri": "https://localhost:8080/"
        }
      },
      "execution_count": 81,
      "outputs": [
        {
          "output_type": "stream",
          "name": "stdout",
          "text": [
            "875/875 [==============================] - 1s 2ms/step\n"
          ]
        }
      ]
    },
    {
      "cell_type": "code",
      "source": [
        "y_prob"
      ],
      "metadata": {
        "id": "8XMTR03UhKuM",
        "outputId": "93ef5776-fb31-4b7d-f769-a12f26f9ca0e",
        "colab": {
          "base_uri": "https://localhost:8080/"
        }
      },
      "execution_count": 82,
      "outputs": [
        {
          "output_type": "execute_result",
          "data": {
            "text/plain": [
              "array([[7.64937081e-20, 1.00189455e-21, 9.99999940e-01, ...,\n",
              "        4.98168895e-17, 2.70018118e-18, 9.28072136e-23],\n",
              "       [9.99999940e-01, 1.12896945e-19, 2.06331144e-14, ...,\n",
              "        2.53579331e-17, 2.63985552e-11, 7.12173213e-13],\n",
              "       [1.12419405e-12, 9.48420370e-11, 1.38069126e-10, ...,\n",
              "        4.11383194e-09, 3.74554224e-06, 9.99988019e-01],\n",
              "       ...,\n",
              "       [3.93048211e-24, 1.94401257e-20, 1.81759633e-15, ...,\n",
              "        1.91281510e-20, 2.60204630e-16, 1.06755056e-11],\n",
              "       [1.56945817e-10, 2.23119870e-10, 9.04860492e-11, ...,\n",
              "        7.79470710e-10, 1.05603135e-08, 9.99998510e-01],\n",
              "       [1.08826945e-19, 1.03736545e-18, 9.99999940e-01, ...,\n",
              "        8.01811213e-15, 4.01120882e-20, 6.22477077e-23]], dtype=float32)"
            ]
          },
          "metadata": {},
          "execution_count": 82
        }
      ]
    },
    {
      "cell_type": "code",
      "source": [
        "# Calculate accuracy\n",
        "from sklearn.metrics import accuracy_score\n",
        "accuracy = accuracy_score(y_test, y_pred)\n",
        "accuracy"
      ],
      "metadata": {
        "colab": {
          "base_uri": "https://localhost:8080/",
          "height": 339
        },
        "id": "831jIQ4wnfBH",
        "outputId": "49b3bdb6-b417-44e0-d5e1-e6a1362a3865"
      },
      "execution_count": 83,
      "outputs": [
        {
          "output_type": "error",
          "ename": "ValueError",
          "evalue": "Found input variables with inconsistent numbers of samples: [10000, 28000]",
          "traceback": [
            "\u001b[0;31m---------------------------------------------------------------------------\u001b[0m",
            "\u001b[0;31mValueError\u001b[0m                                Traceback (most recent call last)",
            "\u001b[0;32m<ipython-input-83-37a3a0c77346>\u001b[0m in \u001b[0;36m<cell line: 3>\u001b[0;34m()\u001b[0m\n\u001b[1;32m      1\u001b[0m \u001b[0;31m# Calculate accuracy\u001b[0m\u001b[0;34m\u001b[0m\u001b[0;34m\u001b[0m\u001b[0m\n\u001b[1;32m      2\u001b[0m \u001b[0;32mfrom\u001b[0m \u001b[0msklearn\u001b[0m\u001b[0;34m.\u001b[0m\u001b[0mmetrics\u001b[0m \u001b[0;32mimport\u001b[0m \u001b[0maccuracy_score\u001b[0m\u001b[0;34m\u001b[0m\u001b[0;34m\u001b[0m\u001b[0m\n\u001b[0;32m----> 3\u001b[0;31m \u001b[0maccuracy\u001b[0m \u001b[0;34m=\u001b[0m \u001b[0maccuracy_score\u001b[0m\u001b[0;34m(\u001b[0m\u001b[0my_test\u001b[0m\u001b[0;34m,\u001b[0m \u001b[0my_pred\u001b[0m\u001b[0;34m)\u001b[0m\u001b[0;34m\u001b[0m\u001b[0;34m\u001b[0m\u001b[0m\n\u001b[0m\u001b[1;32m      4\u001b[0m \u001b[0maccuracy\u001b[0m\u001b[0;34m\u001b[0m\u001b[0;34m\u001b[0m\u001b[0m\n",
            "\u001b[0;32m/usr/local/lib/python3.10/dist-packages/sklearn/utils/_param_validation.py\u001b[0m in \u001b[0;36mwrapper\u001b[0;34m(*args, **kwargs)\u001b[0m\n\u001b[1;32m    190\u001b[0m \u001b[0;34m\u001b[0m\u001b[0m\n\u001b[1;32m    191\u001b[0m             \u001b[0;32mtry\u001b[0m\u001b[0;34m:\u001b[0m\u001b[0;34m\u001b[0m\u001b[0;34m\u001b[0m\u001b[0m\n\u001b[0;32m--> 192\u001b[0;31m                 \u001b[0;32mreturn\u001b[0m \u001b[0mfunc\u001b[0m\u001b[0;34m(\u001b[0m\u001b[0;34m*\u001b[0m\u001b[0margs\u001b[0m\u001b[0;34m,\u001b[0m \u001b[0;34m**\u001b[0m\u001b[0mkwargs\u001b[0m\u001b[0;34m)\u001b[0m\u001b[0;34m\u001b[0m\u001b[0;34m\u001b[0m\u001b[0m\n\u001b[0m\u001b[1;32m    193\u001b[0m             \u001b[0;32mexcept\u001b[0m \u001b[0mInvalidParameterError\u001b[0m \u001b[0;32mas\u001b[0m \u001b[0me\u001b[0m\u001b[0;34m:\u001b[0m\u001b[0;34m\u001b[0m\u001b[0;34m\u001b[0m\u001b[0m\n\u001b[1;32m    194\u001b[0m                 \u001b[0;31m# When the function is just a wrapper around an estimator, we allow\u001b[0m\u001b[0;34m\u001b[0m\u001b[0;34m\u001b[0m\u001b[0m\n",
            "\u001b[0;32m/usr/local/lib/python3.10/dist-packages/sklearn/metrics/_classification.py\u001b[0m in \u001b[0;36maccuracy_score\u001b[0;34m(y_true, y_pred, normalize, sample_weight)\u001b[0m\n\u001b[1;32m    219\u001b[0m \u001b[0;34m\u001b[0m\u001b[0m\n\u001b[1;32m    220\u001b[0m     \u001b[0;31m# Compute accuracy for each possible representation\u001b[0m\u001b[0;34m\u001b[0m\u001b[0;34m\u001b[0m\u001b[0m\n\u001b[0;32m--> 221\u001b[0;31m     \u001b[0my_type\u001b[0m\u001b[0;34m,\u001b[0m \u001b[0my_true\u001b[0m\u001b[0;34m,\u001b[0m \u001b[0my_pred\u001b[0m \u001b[0;34m=\u001b[0m \u001b[0m_check_targets\u001b[0m\u001b[0;34m(\u001b[0m\u001b[0my_true\u001b[0m\u001b[0;34m,\u001b[0m \u001b[0my_pred\u001b[0m\u001b[0;34m)\u001b[0m\u001b[0;34m\u001b[0m\u001b[0;34m\u001b[0m\u001b[0m\n\u001b[0m\u001b[1;32m    222\u001b[0m     \u001b[0mcheck_consistent_length\u001b[0m\u001b[0;34m(\u001b[0m\u001b[0my_true\u001b[0m\u001b[0;34m,\u001b[0m \u001b[0my_pred\u001b[0m\u001b[0;34m,\u001b[0m \u001b[0msample_weight\u001b[0m\u001b[0;34m)\u001b[0m\u001b[0;34m\u001b[0m\u001b[0;34m\u001b[0m\u001b[0m\n\u001b[1;32m    223\u001b[0m     \u001b[0;32mif\u001b[0m \u001b[0my_type\u001b[0m\u001b[0;34m.\u001b[0m\u001b[0mstartswith\u001b[0m\u001b[0;34m(\u001b[0m\u001b[0;34m\"multilabel\"\u001b[0m\u001b[0;34m)\u001b[0m\u001b[0;34m:\u001b[0m\u001b[0;34m\u001b[0m\u001b[0;34m\u001b[0m\u001b[0m\n",
            "\u001b[0;32m/usr/local/lib/python3.10/dist-packages/sklearn/metrics/_classification.py\u001b[0m in \u001b[0;36m_check_targets\u001b[0;34m(y_true, y_pred)\u001b[0m\n\u001b[1;32m     84\u001b[0m     \u001b[0my_pred\u001b[0m \u001b[0;34m:\u001b[0m \u001b[0marray\u001b[0m \u001b[0;32mor\u001b[0m \u001b[0mindicator\u001b[0m \u001b[0mmatrix\u001b[0m\u001b[0;34m\u001b[0m\u001b[0;34m\u001b[0m\u001b[0m\n\u001b[1;32m     85\u001b[0m     \"\"\"\n\u001b[0;32m---> 86\u001b[0;31m     \u001b[0mcheck_consistent_length\u001b[0m\u001b[0;34m(\u001b[0m\u001b[0my_true\u001b[0m\u001b[0;34m,\u001b[0m \u001b[0my_pred\u001b[0m\u001b[0;34m)\u001b[0m\u001b[0;34m\u001b[0m\u001b[0;34m\u001b[0m\u001b[0m\n\u001b[0m\u001b[1;32m     87\u001b[0m     \u001b[0mtype_true\u001b[0m \u001b[0;34m=\u001b[0m \u001b[0mtype_of_target\u001b[0m\u001b[0;34m(\u001b[0m\u001b[0my_true\u001b[0m\u001b[0;34m,\u001b[0m \u001b[0minput_name\u001b[0m\u001b[0;34m=\u001b[0m\u001b[0;34m\"y_true\"\u001b[0m\u001b[0;34m)\u001b[0m\u001b[0;34m\u001b[0m\u001b[0;34m\u001b[0m\u001b[0m\n\u001b[1;32m     88\u001b[0m     \u001b[0mtype_pred\u001b[0m \u001b[0;34m=\u001b[0m \u001b[0mtype_of_target\u001b[0m\u001b[0;34m(\u001b[0m\u001b[0my_pred\u001b[0m\u001b[0;34m,\u001b[0m \u001b[0minput_name\u001b[0m\u001b[0;34m=\u001b[0m\u001b[0;34m\"y_pred\"\u001b[0m\u001b[0;34m)\u001b[0m\u001b[0;34m\u001b[0m\u001b[0;34m\u001b[0m\u001b[0m\n",
            "\u001b[0;32m/usr/local/lib/python3.10/dist-packages/sklearn/utils/validation.py\u001b[0m in \u001b[0;36mcheck_consistent_length\u001b[0;34m(*arrays)\u001b[0m\n\u001b[1;32m    395\u001b[0m     \u001b[0muniques\u001b[0m \u001b[0;34m=\u001b[0m \u001b[0mnp\u001b[0m\u001b[0;34m.\u001b[0m\u001b[0munique\u001b[0m\u001b[0;34m(\u001b[0m\u001b[0mlengths\u001b[0m\u001b[0;34m)\u001b[0m\u001b[0;34m\u001b[0m\u001b[0;34m\u001b[0m\u001b[0m\n\u001b[1;32m    396\u001b[0m     \u001b[0;32mif\u001b[0m \u001b[0mlen\u001b[0m\u001b[0;34m(\u001b[0m\u001b[0muniques\u001b[0m\u001b[0;34m)\u001b[0m \u001b[0;34m>\u001b[0m \u001b[0;36m1\u001b[0m\u001b[0;34m:\u001b[0m\u001b[0;34m\u001b[0m\u001b[0;34m\u001b[0m\u001b[0m\n\u001b[0;32m--> 397\u001b[0;31m         raise ValueError(\n\u001b[0m\u001b[1;32m    398\u001b[0m             \u001b[0;34m\"Found input variables with inconsistent numbers of samples: %r\"\u001b[0m\u001b[0;34m\u001b[0m\u001b[0;34m\u001b[0m\u001b[0m\n\u001b[1;32m    399\u001b[0m             \u001b[0;34m%\u001b[0m \u001b[0;34m[\u001b[0m\u001b[0mint\u001b[0m\u001b[0;34m(\u001b[0m\u001b[0ml\u001b[0m\u001b[0;34m)\u001b[0m \u001b[0;32mfor\u001b[0m \u001b[0ml\u001b[0m \u001b[0;32min\u001b[0m \u001b[0mlengths\u001b[0m\u001b[0;34m]\u001b[0m\u001b[0;34m\u001b[0m\u001b[0;34m\u001b[0m\u001b[0m\n",
            "\u001b[0;31mValueError\u001b[0m: Found input variables with inconsistent numbers of samples: [10000, 28000]"
          ]
        }
      ]
    },
    {
      "cell_type": "code",
      "source": [
        "import matplotlib.pyplot as plt\n",
        "import pandas as pd\n",
        "\n",
        "pd.DataFrame(history.history).plot(\n",
        "    figsize=(8, 5), xlim=[0, 14], ylim=[0, 1], grid=True, xlabel=\"Epoch\",\n",
        "    style=[\"r--\", \"r--.\", \"b-\", \"b-*\"])\n",
        "plt.show()\n",
        "\n"
      ],
      "metadata": {
        "colab": {
          "base_uri": "https://localhost:8080/",
          "height": 470
        },
        "id": "glk2Tg1AnyDC",
        "outputId": "3b6db940-75e6-4e3b-cfaf-6dfd6cdbb1c0"
      },
      "execution_count": 84,
      "outputs": [
        {
          "output_type": "display_data",
          "data": {
            "text/plain": [
              "<Figure size 800x500 with 1 Axes>"
            ],
            "image/png": "[encoded data removed]"
          },
          "metadata": {}
        }
      ]
    },
    {
      "cell_type": "code",
      "source": [],
      "metadata": {
        "id": "r-vTgsEWpl5C"
      },
      "execution_count": 84,
      "outputs": []
    },
    {
      "cell_type": "code",
      "source": [
        "# I use this to input individual numbers on the test data set to see what my model predicts.\n",
        "tester = 3\n",
        "plt.imshow(X_test[tester])"
      ],
      "metadata": {
        "colab": {
          "base_uri": "https://localhost:8080/",
          "height": 447
        },
        "id": "VoodcDNDqPfD",
        "outputId": "cb027280-03c1-4180-ca8b-b4bda7809564"
      },
      "execution_count": 85,
      "outputs": [
        {
          "output_type": "execute_result",
          "data": {
            "text/plain": [
              "<matplotlib.image.AxesImage at 0x78f69a9f6f80>"
            ]
          },
          "metadata": {},
          "execution_count": 85
        },
        {
          "output_type": "display_data",
          "data": {
            "text/plain": [
              "<Figure size 640x480 with 1 Axes>"
            ],
            "image/png": "[encoded data removed]"
          },
          "metadata": {}
        }
      ]
    },
    {
      "cell_type": "code",
      "source": [
        "model.predict(X_test[tester].reshape(1,28,28)).argmax(axis=1)"
      ],
      "metadata": {
        "colab": {
          "base_uri": "https://localhost:8080/"
        },
        "id": "tW4fXvQTqtTO",
        "outputId": "5eb19c4a-0a42-4ef1-d685-aafdba9aea6a"
      },
      "execution_count": 86,
      "outputs": [
        {
          "output_type": "stream",
          "name": "stdout",
          "text": [
            "1/1 [==============================] - 0s 67ms/step\n"
          ]
        },
        {
          "output_type": "execute_result",
          "data": {
            "text/plain": [
              "array([9])"
            ]
          },
          "metadata": {},
          "execution_count": 86
        }
      ]
    },
    {
      "cell_type": "code",
      "source": [
        "# Create a submission DataFrame\n",
        "submission = pd.DataFrame({\n",
        "    'ImageId': range(1, len(y_pred) + 1),\n",
        "    'Label': y_pred\n",
        "})\n"
      ],
      "metadata": {
        "id": "gOfmJUZMrCC_"
      },
      "execution_count": 87,
      "outputs": []
    },
    {
      "cell_type": "code",
      "source": [
        "# Save to CSV, without the index column\n",
        "submission.to_csv('submission.csv', index=False)"
      ],
      "metadata": {
        "id": "oQEtt4GiiYpL"
      },
      "execution_count": 88,
      "outputs": []
    },
    {
      "cell_type": "code",
      "source": [],
      "metadata": {
        "id": "6zL5tXj3yEQJ"
      },
      "execution_count": null,
      "outputs": []
    },
    {
      "cell_type": "markdown",
      "source": [
        "Ths got me a 97% accuracy when I turned in my Kaggle submission.  I see the names of all of my classmates just above my name.  "
      ],
      "metadata": {
        "id": "do2LCIfI0Vuj"
      }
    },
    {
      "cell_type": "code",
      "source": [
        "from tensorflow.keras.models import Sequential\n",
        "from tensorflow.keras.layers import Dense, Flatten, Conv2D, MaxPooling2D, Dropout\n",
        "from tensorflow.keras.optimizers import Adam\n",
        "from tensorflow.keras.callbacks import EarlyStopping, ReduceLROnPlateau"
      ],
      "metadata": {
        "id": "yDqhF0EH1Z5t"
      },
      "execution_count": 91,
      "outputs": []
    },
    {
      "cell_type": "code",
      "source": [
        "model = Sequential([\n",
        "    Conv2D(32, kernel_size=(3, 3), activation='relu', input_shape=(28, 28, 1)),\n",
        "    MaxPooling2D(pool_size=(2, 2)),\n",
        "    Conv2D(64, kernel_size=(3, 3), activation='relu'),\n",
        "    MaxPooling2D(pool_size=(2, 2)),\n",
        "    Conv2D(128, kernel_size=(3, 3), activation='relu'),\n",
        "    MaxPooling2D(pool_size=(2, 2)),\n",
        "    Flatten(),\n",
        "    Dense(128, activation='relu'),\n",
        "    Dense(10, activation='softmax')\n",
        "\n",
        "])"
      ],
      "metadata": {
        "id": "cQKoaxtn2XRo"
      },
      "execution_count": 92,
      "outputs": []
    },
    {
      "cell_type": "code",
      "source": [
        "model.summary()"
      ],
      "metadata": {
        "id": "w_pZcCQb22ta",
        "outputId": "6a72304f-3c2c-44a7-a2b7-cad468ced264",
        "colab": {
          "base_uri": "https://localhost:8080/"
        }
      },
      "execution_count": 93,
      "outputs": [
        {
          "output_type": "stream",
          "name": "stdout",
          "text": [
            "Model: \"sequential_4\"\n",
            "_________________________________________________________________\n",
            " Layer (type)                Output Shape              Param #   \n",
            "=================================================================\n",
            " conv2d (Conv2D)             (None, 26, 26, 32)        320       \n",
            "                                                                 \n",
            " max_pooling2d (MaxPooling2  (None, 13, 13, 32)        0         \n",
            " D)                                                              \n",
            "                                                                 \n",
            " conv2d_1 (Conv2D)           (None, 11, 11, 64)        18496     \n",
            "                                                                 \n",
            " max_pooling2d_1 (MaxPoolin  (None, 5, 5, 64)          0         \n",
            " g2D)                                                            \n",
            "                                                                 \n",
            " conv2d_2 (Conv2D)           (None, 3, 3, 128)         73856     \n",
            "                                                                 \n",
            " max_pooling2d_2 (MaxPoolin  (None, 1, 1, 128)         0         \n",
            " g2D)                                                            \n",
            "                                                                 \n",
            " flatten_4 (Flatten)         (None, 128)               0         \n",
            "                                                                 \n",
            " dense_16 (Dense)            (None, 128)               16512     \n",
            "                                                                 \n",
            " dense_17 (Dense)            (None, 10)                1290      \n",
            "                                                                 \n",
            "=================================================================\n",
            "Total params: 110474 (431.54 KB)\n",
            "Trainable params: 110474 (431.54 KB)\n",
            "Non-trainable params: 0 (0.00 Byte)\n",
            "_________________________________________________________________\n"
          ]
        }
      ]
    },
    {
      "cell_type": "code",
      "source": [
        "# Compile the model\n",
        "model.compile(loss='sparse_categorical_crossentropy', optimizer='Adam', metrics=['accuracy'])"
      ],
      "metadata": {
        "id": "ncAhi1AW2_TL"
      },
      "execution_count": 94,
      "outputs": []
    },
    {
      "cell_type": "code",
      "source": [
        "# Fit the model\n",
        "history = model.fit(X_train, y_train, epochs=15, validation_split=0.2)"
      ],
      "metadata": {
        "id": "Qrbs4Kte3IXk",
        "outputId": "c45542e6-77f8-443d-894b-28e98e1d8dfc",
        "colab": {
          "base_uri": "https://localhost:8080/"
        }
      },
      "execution_count": 95,
      "outputs": [
        {
          "output_type": "stream",
          "name": "stdout",
          "text": [
            "Epoch 1/15\n",
            "1050/1050 [==============================] - 10s 9ms/step - loss: 0.2611 - accuracy: 0.9203 - val_loss: 0.1180 - val_accuracy: 0.9632\n",
            "Epoch 2/15\n",
            "1050/1050 [==============================] - 9s 9ms/step - loss: 0.0832 - accuracy: 0.9739 - val_loss: 0.0621 - val_accuracy: 0.9801\n",
            "Epoch 3/15\n",
            "1050/1050 [==============================] - 9s 9ms/step - loss: 0.0589 - accuracy: 0.9812 - val_loss: 0.0548 - val_accuracy: 0.9840\n",
            "Epoch 4/15\n",
            "1050/1050 [==============================] - 9s 8ms/step - loss: 0.0457 - accuracy: 0.9845 - val_loss: 0.0600 - val_accuracy: 0.9820\n",
            "Epoch 5/15\n",
            "1050/1050 [==============================] - 9s 8ms/step - loss: 0.0383 - accuracy: 0.9879 - val_loss: 0.0534 - val_accuracy: 0.9851\n",
            "Epoch 6/15\n",
            "1050/1050 [==============================] - 9s 8ms/step - loss: 0.0297 - accuracy: 0.9900 - val_loss: 0.0553 - val_accuracy: 0.9838\n",
            "Epoch 7/15\n",
            "1050/1050 [==============================] - 9s 8ms/step - loss: 0.0241 - accuracy: 0.9924 - val_loss: 0.0615 - val_accuracy: 0.9850\n",
            "Epoch 8/15\n",
            "1050/1050 [==============================] - 9s 8ms/step - loss: 0.0220 - accuracy: 0.9925 - val_loss: 0.0509 - val_accuracy: 0.9862\n",
            "Epoch 9/15\n",
            "1050/1050 [==============================] - 9s 8ms/step - loss: 0.0164 - accuracy: 0.9946 - val_loss: 0.0651 - val_accuracy: 0.9865\n",
            "Epoch 10/15\n",
            "1050/1050 [==============================] - 9s 8ms/step - loss: 0.0156 - accuracy: 0.9954 - val_loss: 0.0681 - val_accuracy: 0.9827\n",
            "Epoch 11/15\n",
            "1050/1050 [==============================] - 9s 8ms/step - loss: 0.0147 - accuracy: 0.9949 - val_loss: 0.0556 - val_accuracy: 0.9880\n",
            "Epoch 12/15\n",
            "1050/1050 [==============================] - 9s 8ms/step - loss: 0.0132 - accuracy: 0.9960 - val_loss: 0.0609 - val_accuracy: 0.9862\n",
            "Epoch 13/15\n",
            "1050/1050 [==============================] - 9s 8ms/step - loss: 0.0119 - accuracy: 0.9961 - val_loss: 0.0627 - val_accuracy: 0.9886\n",
            "Epoch 14/15\n",
            "1050/1050 [==============================] - 9s 8ms/step - loss: 0.0103 - accuracy: 0.9968 - val_loss: 0.0691 - val_accuracy: 0.9869\n",
            "Epoch 15/15\n",
            "1050/1050 [==============================] - 9s 8ms/step - loss: 0.0110 - accuracy: 0.9968 - val_loss: 0.0657 - val_accuracy: 0.9863\n"
          ]
        }
      ]
    },
    {
      "cell_type": "code",
      "source": [
        "# Predict on test set\n",
        "y_prob = model.predict(X_test)\n",
        "y_pred = y_prob.argmax(axis=1)"
      ],
      "metadata": {
        "id": "ZBWUCggd3M90",
        "outputId": "bec7ade6-7b45-46b9-83ec-116130db8292",
        "colab": {
          "base_uri": "https://localhost:8080/"
        }
      },
      "execution_count": 96,
      "outputs": [
        {
          "output_type": "stream",
          "name": "stdout",
          "text": [
            "875/875 [==============================] - 3s 3ms/step\n"
          ]
        }
      ]
    },
    {
      "cell_type": "code",
      "source": [
        "import matplotlib.pyplot as plt\n",
        "import pandas as pd\n",
        "\n",
        "pd.DataFrame(history.history).plot(\n",
        "    figsize=(8, 5), xlim=[0, 14], ylim=[0, 1], grid=True, xlabel=\"Epoch\",\n",
        "    style=[\"r--\", \"r--.\", \"b-\", \"b-*\"])\n",
        "plt.show()\n"
      ],
      "metadata": {
        "id": "mqEWAaGb35cl",
        "outputId": "3c8e961c-37e6-4606-a6a6-5ed5d390297d",
        "colab": {
          "base_uri": "https://localhost:8080/",
          "height": 470
        }
      },
      "execution_count": 98,
      "outputs": [
        {
          "output_type": "display_data",
          "data": {
            "text/plain": [
              "<Figure size 800x500 with 1 Axes>"
            ],
            "image/png": "[encoded data removed]"
          },
          "metadata": {}
        }
      ]
    },
    {
      "cell_type": "code",
      "source": [
        "# Create a submission DataFrame\n",
        "submission = pd.DataFrame({\n",
        "    'ImageId': range(1, len(y_pred) + 1),\n",
        "    'Label': y_pred\n",
        "})"
      ],
      "metadata": {
        "id": "T9HxIuFJ4Crt"
      },
      "execution_count": 99,
      "outputs": []
    },
    {
      "cell_type": "code",
      "source": [
        "# Save to CSV, without the index column\n",
        "submission.to_csv('Con2D_submission.csv', index=False)"
      ],
      "metadata": {
        "id": "kOZfPlzx4L0O"
      },
      "execution_count": 100,
      "outputs": []
    },
    {
      "cell_type": "markdown",
      "source": [
        "The received a score of 98.292% on sumission.  I'm going to try a much simpler version of this model taking it out of the DNN range to see how it will do."
      ],
      "metadata": {
        "id": "RgRcQWCc53_F"
      }
    },
    {
      "cell_type": "code",
      "source": [
        "model = Sequential([\n",
        "    Conv2D(32, kernel_size=(3, 3), activation='relu', input_shape=(28, 28, 1)),\n",
        "    MaxPooling2D(pool_size=(2, 2)),\n",
        "    Flatten(),\n",
        "    Dense(10, activation='softmax')\n",
        "\n",
        "])"
      ],
      "metadata": {
        "id": "7y8bfkay4bj2"
      },
      "execution_count": 101,
      "outputs": []
    },
    {
      "cell_type": "code",
      "source": [
        "model.summary()"
      ],
      "metadata": {
        "id": "GzGEyN7T6iSi",
        "outputId": "041fedc8-299c-415c-d54e-849e8b6c7a99",
        "colab": {
          "base_uri": "https://localhost:8080/"
        }
      },
      "execution_count": 102,
      "outputs": [
        {
          "output_type": "stream",
          "name": "stdout",
          "text": [
            "Model: \"sequential_5\"\n",
            "_________________________________________________________________\n",
            " Layer (type)                Output Shape              Param #   \n",
            "=================================================================\n",
            " conv2d_3 (Conv2D)           (None, 26, 26, 32)        320       \n",
            "                                                                 \n",
            " max_pooling2d_3 (MaxPoolin  (None, 13, 13, 32)        0         \n",
            " g2D)                                                            \n",
            "                                                                 \n",
            " flatten_5 (Flatten)         (None, 5408)              0         \n",
            "                                                                 \n",
            " dense_18 (Dense)            (None, 10)                54090     \n",
            "                                                                 \n",
            "=================================================================\n",
            "Total params: 54410 (212.54 KB)\n",
            "Trainable params: 54410 (212.54 KB)\n",
            "Non-trainable params: 0 (0.00 Byte)\n",
            "_________________________________________________________________\n"
          ]
        }
      ]
    },
    {
      "cell_type": "code",
      "source": [
        "# Compile the model\n",
        "model.compile(loss='sparse_categorical_crossentropy', optimizer='Adam', metrics=['accuracy'])"
      ],
      "metadata": {
        "id": "1s61VroQ614G"
      },
      "execution_count": 103,
      "outputs": []
    },
    {
      "cell_type": "code",
      "source": [
        "# Fit the model\n",
        "history = model.fit(X_train, y_train, epochs=15, validation_split=0.2)"
      ],
      "metadata": {
        "id": "_1YAOzuU628N",
        "outputId": "64c2716e-8fa0-4519-9f20-9e95e90ab4ef",
        "colab": {
          "base_uri": "https://localhost:8080/"
        }
      },
      "execution_count": 104,
      "outputs": [
        {
          "output_type": "stream",
          "name": "stdout",
          "text": [
            "Epoch 1/15\n",
            "1050/1050 [==============================] - 6s 6ms/step - loss: 0.2930 - accuracy: 0.9163 - val_loss: 0.1218 - val_accuracy: 0.9670\n",
            "Epoch 2/15\n",
            "1050/1050 [==============================] - 6s 5ms/step - loss: 0.1041 - accuracy: 0.9705 - val_loss: 0.0915 - val_accuracy: 0.9723\n",
            "Epoch 3/15\n",
            "1050/1050 [==============================] - 6s 5ms/step - loss: 0.0722 - accuracy: 0.9798 - val_loss: 0.0787 - val_accuracy: 0.9755\n",
            "Epoch 4/15\n",
            "1050/1050 [==============================] - 6s 5ms/step - loss: 0.0581 - accuracy: 0.9834 - val_loss: 0.0657 - val_accuracy: 0.9789\n",
            "Epoch 5/15\n",
            "1050/1050 [==============================] - 6s 5ms/step - loss: 0.0488 - accuracy: 0.9856 - val_loss: 0.0677 - val_accuracy: 0.9787\n",
            "Epoch 6/15\n",
            "1050/1050 [==============================] - 6s 5ms/step - loss: 0.0420 - accuracy: 0.9877 - val_loss: 0.0728 - val_accuracy: 0.9780\n",
            "Epoch 7/15\n",
            "1050/1050 [==============================] - 6s 5ms/step - loss: 0.0356 - accuracy: 0.9895 - val_loss: 0.0658 - val_accuracy: 0.9796\n",
            "Epoch 8/15\n",
            "1050/1050 [==============================] - 6s 5ms/step - loss: 0.0299 - accuracy: 0.9917 - val_loss: 0.0670 - val_accuracy: 0.9799\n",
            "Epoch 9/15\n",
            "1050/1050 [==============================] - 6s 5ms/step - loss: 0.0271 - accuracy: 0.9918 - val_loss: 0.0641 - val_accuracy: 0.9817\n",
            "Epoch 10/15\n",
            "1050/1050 [==============================] - 6s 5ms/step - loss: 0.0226 - accuracy: 0.9929 - val_loss: 0.0646 - val_accuracy: 0.9804\n",
            "Epoch 11/15\n",
            "1050/1050 [==============================] - 6s 5ms/step - loss: 0.0191 - accuracy: 0.9943 - val_loss: 0.0697 - val_accuracy: 0.9812\n",
            "Epoch 12/15\n",
            "1050/1050 [==============================] - 6s 5ms/step - loss: 0.0166 - accuracy: 0.9951 - val_loss: 0.0688 - val_accuracy: 0.9804\n",
            "Epoch 13/15\n",
            "1050/1050 [==============================] - 6s 5ms/step - loss: 0.0129 - accuracy: 0.9968 - val_loss: 0.0723 - val_accuracy: 0.9802\n",
            "Epoch 14/15\n",
            "1050/1050 [==============================] - 6s 5ms/step - loss: 0.0121 - accuracy: 0.9966 - val_loss: 0.0761 - val_accuracy: 0.9777\n",
            "Epoch 15/15\n",
            "1050/1050 [==============================] - 6s 5ms/step - loss: 0.0099 - accuracy: 0.9971 - val_loss: 0.0787 - val_accuracy: 0.9810\n"
          ]
        }
      ]
    },
    {
      "cell_type": "code",
      "source": [
        "# Predict on test set\n",
        "y_prob = model.predict(X_test)\n",
        "y_pred = y_prob.argmax(axis=1)"
      ],
      "metadata": {
        "id": "aVsS7LPQ68_c",
        "outputId": "ce5a6db6-59dc-42d0-f9d2-91e66a274161",
        "colab": {
          "base_uri": "https://localhost:8080/"
        }
      },
      "execution_count": 105,
      "outputs": [
        {
          "output_type": "stream",
          "name": "stdout",
          "text": [
            "875/875 [==============================] - 2s 2ms/step\n"
          ]
        }
      ]
    },
    {
      "cell_type": "code",
      "source": [
        "import matplotlib.pyplot as plt\n",
        "import pandas as pd\n",
        "\n",
        "pd.DataFrame(history.history).plot(\n",
        "    figsize=(8, 5), xlim=[0, 14], ylim=[0, 1], grid=True, xlabel=\"Epoch\",\n",
        "    style=[\"r--\", \"r--.\", \"b-\", \"b-*\"])\n",
        "plt.show()\n"
      ],
      "metadata": {
        "id": "QDJIxBim7KDf",
        "outputId": "2cd304ee-3eaf-46f6-d75e-5b74f990b3b3",
        "colab": {
          "base_uri": "https://localhost:8080/",
          "height": 470
        }
      },
      "execution_count": 106,
      "outputs": [
        {
          "output_type": "display_data",
          "data": {
            "text/plain": [
              "<Figure size 800x500 with 1 Axes>"
            ],
            "image/png": "[encoded data removed]"
          },
          "metadata": {}
        }
      ]
    },
    {
      "cell_type": "code",
      "source": [
        "# Create a submission DataFrame\n",
        "submission = pd.DataFrame({\n",
        "    'ImageId': range(1, len(y_pred) + 1),\n",
        "    'Label': y_pred\n",
        "})"
      ],
      "metadata": {
        "id": "nJV_du2S7WtW"
      },
      "execution_count": 107,
      "outputs": []
    },
    {
      "cell_type": "code",
      "source": [
        "# Save to CSV, without the index column\n",
        "submission.to_csv('Simple_Con2D_submission.csv', index=False)"
      ],
      "metadata": {
        "id": "yy6RPtaw7Y1G"
      },
      "execution_count": 108,
      "outputs": []
    },
    {
      "cell_type": "markdown",
      "source": [
        "97.935%"
      ],
      "metadata": {
        "id": "OCzPNjY572Lg"
      }
    },
    {
      "cell_type": "markdown",
      "source": [
        "# Adding Gradient Clipping\n",
        "\n",
        "I know the goal is to learn, and not to get a great kaggle score, but it's hard to resist the temptation to strive for that higher score.   "
      ],
      "metadata": {
        "id": "KYJKhxPJ8tjD"
      }
    },
    {
      "cell_type": "code",
      "source": [
        "from tensorflow.keras.optimizers import Adam\n",
        "from tensorflow.keras.callbacks import EarlyStopping, ReduceLROnPlateau"
      ],
      "metadata": {
        "id": "jNssfmuC7hu_"
      },
      "execution_count": 110,
      "outputs": []
    },
    {
      "cell_type": "code",
      "source": [
        "# Create the Model\n",
        "\n",
        "model = Sequential([\n",
        "    Conv2D(32, kernel_size=(3, 3), activation='relu', input_shape=(28, 28, 1)),\n",
        "    MaxPooling2D(pool_size=(2, 2)),\n",
        "    Conv2D(64, kernel_size=(3, 3), activation='relu'),\n",
        "    MaxPooling2D(pool_size=(2, 2)),\n",
        "    Conv2D(128, kernel_size=(3, 3), activation='relu'),\n",
        "    MaxPooling2D(pool_size=(2, 2)),\n",
        "    Flatten(),\n",
        "    Dense(128, activation='relu'),\n",
        "    Dense(10, activation='softmax')\n",
        "\n",
        "])"
      ],
      "metadata": {
        "id": "6rJhQY3w9ERx"
      },
      "execution_count": 111,
      "outputs": []
    },
    {
      "cell_type": "code",
      "source": [
        "# Initalize the Adam optimizer with gradient clipping\n",
        "optimizer = Adam(learning_rate=0.001, clipnorm=1.0)"
      ],
      "metadata": {
        "id": "N-BjLglj9gWj"
      },
      "execution_count": 112,
      "outputs": []
    },
    {
      "cell_type": "code",
      "source": [
        "# Compiling the model with the optomizer\n",
        "model.compile(loss='sparse_categorical_crossentropy', optimizer=optimizer, metrics=['accuracy'])"
      ],
      "metadata": {
        "id": "YZfdrqpM-K2s"
      },
      "execution_count": 113,
      "outputs": []
    },
    {
      "cell_type": "code",
      "source": [
        "# Setting up early stopping\n",
        "early_stopping = EarlyStopping(monitor='val_loss', patience=3, restore_best_weights=True)"
      ],
      "metadata": {
        "id": "qEp5pASh-bBE"
      },
      "execution_count": 114,
      "outputs": []
    },
    {
      "cell_type": "code",
      "source": [
        "# Setting up ReducelROnPlateau\n",
        "reduce_lr = ReduceLROnPlateau(monitor='val_loss', factor=0.2, patience=2, min_lr=0.0001)"
      ],
      "metadata": {
        "id": "YAN6PW-u-xuG"
      },
      "execution_count": 115,
      "outputs": []
    },
    {
      "cell_type": "code",
      "source": [
        "# Fit the model with callbacks\n",
        "history = model.fit(X_train, y_train,\n",
        "                    epochs=50,\n",
        "                    batch_size=32,\n",
        "                    validation_split=0.2,\n",
        "                    callbacks=[early_stopping, reduce_lr])"
      ],
      "metadata": {
        "id": "ootE4LD_-3pW",
        "outputId": "c067c911-9615-488d-831b-722724684dac",
        "colab": {
          "base_uri": "https://localhost:8080/"
        }
      },
      "execution_count": 117,
      "outputs": [
        {
          "output_type": "stream",
          "name": "stdout",
          "text": [
            "Epoch 1/50\n",
            "1050/1050 [==============================] - 10s 9ms/step - loss: 0.2634 - accuracy: 0.9183 - val_loss: 0.0941 - val_accuracy: 0.9701 - lr: 0.0010\n",
            "Epoch 2/50\n",
            "1050/1050 [==============================] - 9s 8ms/step - loss: 0.0797 - accuracy: 0.9754 - val_loss: 0.0713 - val_accuracy: 0.9768 - lr: 0.0010\n",
            "Epoch 3/50\n",
            "1050/1050 [==============================] - 9s 8ms/step - loss: 0.0580 - accuracy: 0.9818 - val_loss: 0.0612 - val_accuracy: 0.9826 - lr: 0.0010\n",
            "Epoch 4/50\n",
            "1050/1050 [==============================] - 9s 8ms/step - loss: 0.0423 - accuracy: 0.9867 - val_loss: 0.0610 - val_accuracy: 0.9807 - lr: 0.0010\n",
            "Epoch 5/50\n",
            "1050/1050 [==============================] - 9s 8ms/step - loss: 0.0352 - accuracy: 0.9886 - val_loss: 0.0615 - val_accuracy: 0.9832 - lr: 0.0010\n",
            "Epoch 6/50\n",
            "1050/1050 [==============================] - 9s 8ms/step - loss: 0.0256 - accuracy: 0.9923 - val_loss: 0.0486 - val_accuracy: 0.9874 - lr: 0.0010\n",
            "Epoch 7/50\n",
            "1050/1050 [==============================] - 9s 8ms/step - loss: 0.0214 - accuracy: 0.9933 - val_loss: 0.0641 - val_accuracy: 0.9837 - lr: 0.0010\n",
            "Epoch 8/50\n",
            "1050/1050 [==============================] - 9s 8ms/step - loss: 0.0184 - accuracy: 0.9942 - val_loss: 0.0551 - val_accuracy: 0.9852 - lr: 0.0010\n",
            "Epoch 9/50\n",
            "1050/1050 [==============================] - 9s 8ms/step - loss: 0.0058 - accuracy: 0.9982 - val_loss: 0.0468 - val_accuracy: 0.9887 - lr: 2.0000e-04\n",
            "Epoch 10/50\n",
            "1050/1050 [==============================] - 9s 8ms/step - loss: 0.0021 - accuracy: 0.9996 - val_loss: 0.0497 - val_accuracy: 0.9889 - lr: 2.0000e-04\n",
            "Epoch 11/50\n",
            "1050/1050 [==============================] - 9s 8ms/step - loss: 0.0013 - accuracy: 0.9998 - val_loss: 0.0540 - val_accuracy: 0.9893 - lr: 2.0000e-04\n",
            "Epoch 12/50\n",
            "1050/1050 [==============================] - 9s 8ms/step - loss: 8.2455e-04 - accuracy: 0.9999 - val_loss: 0.0530 - val_accuracy: 0.9898 - lr: 1.0000e-04\n"
          ]
        }
      ]
    },
    {
      "cell_type": "code",
      "source": [
        "# Predict on test set\n",
        "y_prob = model.predict(X_test)\n",
        "y_pred = y_prob.argmax(axis=1)"
      ],
      "metadata": {
        "id": "SlEbpnKP_3uP",
        "outputId": "bc29ce78-8d0e-4ae8-c454-90b601569ab4",
        "colab": {
          "base_uri": "https://localhost:8080/"
        }
      },
      "execution_count": 118,
      "outputs": [
        {
          "output_type": "stream",
          "name": "stdout",
          "text": [
            "875/875 [==============================] - 3s 3ms/step\n"
          ]
        }
      ]
    },
    {
      "cell_type": "code",
      "source": [
        "import matplotlib.pyplot as plt\n",
        "import pandas as pd\n",
        "\n",
        "pd.DataFrame(history.history).plot(\n",
        "    figsize=(8, 5), xlim=[0, 14], ylim=[0, 1], grid=True, xlabel=\"Epoch\",\n",
        "    style=[\"r--\", \"r--.\", \"b-\", \"b-*\"])\n",
        "plt.show()"
      ],
      "metadata": {
        "id": "oh2xINknAmPJ",
        "outputId": "a2758237-427e-46ba-d3cc-d67db06161a5",
        "colab": {
          "base_uri": "https://localhost:8080/",
          "height": 470
        }
      },
      "execution_count": 119,
      "outputs": [
        {
          "output_type": "display_data",
          "data": {
            "text/plain": [
              "<Figure size 800x500 with 1 Axes>"
            ],
            "image/png": "[encoded data removed]"
          },
          "metadata": {}
        }
      ]
    },
    {
      "cell_type": "code",
      "source": [
        "# Create a submission DataFrame\n",
        "submission = pd.DataFrame({\n",
        "    'ImageId': range(1, len(y_pred) + 1),\n",
        "    'Label': y_pred\n",
        "})"
      ],
      "metadata": {
        "id": "tQjhrHnOArAg"
      },
      "execution_count": 120,
      "outputs": []
    },
    {
      "cell_type": "code",
      "source": [
        "# Save to CSV, without the index column\n",
        "submission.to_csv('Clipping_EarlyStop_submission.csv', index=False)"
      ],
      "metadata": {
        "id": "avKbkbSQAxkK"
      },
      "execution_count": 121,
      "outputs": []
    },
    {
      "cell_type": "markdown",
      "source": [
        "Accuracy was 98.742% giving me a rank of 801 on this kaggle competition."
      ],
      "metadata": {
        "id": "k2b2gWqrBRzN"
      }
    },
    {
      "cell_type": "code",
      "source": [],
      "metadata": {
        "id": "jkmIGr6rA5Tp"
      },
      "execution_count": null,
      "outputs": []
    }
  ]
}